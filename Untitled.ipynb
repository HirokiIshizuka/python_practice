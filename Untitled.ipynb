{
 "cells": [
  {
   "cell_type": "code",
   "execution_count": null,
   "metadata": {},
   "outputs": [],
   "source": [
    "import pandas as pd\n",
    "from sklearn.model_selection import train_test_split\n",
    "from sklearn.metrics import accuracy_score\n",
    "from sklearn.utils import all_estimators\n",
    "import warnings\n",
    "\n",
    "# アヤメデータの読み込み\n",
    "iris_data = pd.read_csv(\"iris.csv\", encoding=\"utf-8\")\n",
    "\n",
    "# アヤメデータをラベルと入力データに分離する \n",
    "y = iris_data.loc[:,\"Name\"]\n",
    "x = iris_data.loc[:,[\"SepalLength\",\"SepalWidth\",\"PetalLength\",\"PetalWidth\"]]\n",
    "\n",
    "# 学習用とテスト用に分離する \n",
    "x_train, x_test, y_train, y_test = train_test_split(x, y, test_size = 0.2, train_size = 0.8, shuffle = True)\n",
    "\n",
    "# classifierのアルゴリズム全てを取得する --- (※1)\n",
    "allAlgorithms = all_estimators(type_filter=\"classifier\")\n",
    "warnings.simplefilter(\"error\")\n",
    "\n",
    "for(name, algorithm) in allAlgorithms :\n",
    "  try :\n",
    "    # 各アリゴリズムのオブジェクトを作成 --- (※2)\n",
    "    clf = algorithm()\n",
    "\n",
    "    # 学習して、評価する --- (※3)\n",
    "    clf.fit(x_train, y_train)\n",
    "    y_pred = clf.predict(x_test)\n",
    "    print(name,\"の正解率 = \" , accuracy_score(y_test, y_pred))\n",
    "  \n",
    "  # WarningやExceptionの内容を表示する --- (※4)\n",
    "  except Warning as w :\n",
    "    print(\"\\033[33m\"+\"Warning：\"+\"\\033[0m\", name, \":\", w.args)\n",
    "  except Exception as e :\n",
    "    print(\"\\033[31m\"+\"Error：\"+\"\\033[0m\", name, \":\", e.args)"
   ]
  },
  {
   "cell_type": "code",
   "execution_count": null,
   "metadata": {},
   "outputs": [],
   "source": []
  }
 ],
 "metadata": {
  "kernelspec": {
   "display_name": "Python 3",
   "language": "python",
   "name": "python3"
  },
  "language_info": {
   "codemirror_mode": {
    "name": "ipython",
    "version": 3
   },
   "file_extension": ".py",
   "mimetype": "text/x-python",
   "name": "python",
   "nbconvert_exporter": "python",
   "pygments_lexer": "ipython3",
   "version": "3.7.9"
  }
 },
 "nbformat": 4,
 "nbformat_minor": 4
}

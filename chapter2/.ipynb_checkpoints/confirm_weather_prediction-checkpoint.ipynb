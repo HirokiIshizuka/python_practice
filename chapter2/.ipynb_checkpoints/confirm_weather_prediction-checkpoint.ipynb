{
 "cells": [
  {
   "cell_type": "code",
   "execution_count": 1,
   "metadata": {},
   "outputs": [
    {
     "ename": "ImportError",
     "evalue": "No module named 'sklearn'",
     "output_type": "error",
     "traceback": [
      "\u001b[0;31m---------------------------------------------------------------------------\u001b[0m",
      "\u001b[0;31mImportError\u001b[0m                               Traceback (most recent call last)",
      "\u001b[0;32m<ipython-input-1-63f9a514848a>\u001b[0m in \u001b[0;36m<module>\u001b[0;34m\u001b[0m\n\u001b[0;32m----> 1\u001b[0;31m \u001b[0;32mfrom\u001b[0m \u001b[0msklearn\u001b[0m\u001b[0;34m.\u001b[0m\u001b[0mlinear_model\u001b[0m \u001b[0;32mimport\u001b[0m \u001b[0mLinearRegression\u001b[0m\u001b[0;34m\u001b[0m\u001b[0m\n\u001b[0m\u001b[1;32m      2\u001b[0m \u001b[0;32mimport\u001b[0m \u001b[0mpandas\u001b[0m \u001b[0;32mas\u001b[0m \u001b[0mpd\u001b[0m\u001b[0;34m\u001b[0m\u001b[0m\n\u001b[1;32m      3\u001b[0m \u001b[0;32mimport\u001b[0m \u001b[0mnumpy\u001b[0m \u001b[0;32mas\u001b[0m \u001b[0mnp\u001b[0m\u001b[0;34m\u001b[0m\u001b[0m\n\u001b[1;32m      4\u001b[0m \u001b[0;32mimport\u001b[0m \u001b[0mmatplotlib\u001b[0m\u001b[0;34m.\u001b[0m\u001b[0mpyplot\u001b[0m \u001b[0;32mas\u001b[0m \u001b[0mplt\u001b[0m\u001b[0;34m\u001b[0m\u001b[0m\n\u001b[1;32m      5\u001b[0m \u001b[0;34m\u001b[0m\u001b[0m\n",
      "\u001b[0;31mImportError\u001b[0m: No module named 'sklearn'"
     ]
    }
   ],
   "source": [
    "from sklearn.linear_model import LinearRegression\n",
    "import pandas as pd\n",
    "import numpy as np\n",
    "import matplotlib.pyplot as plt\n",
    "\n",
    "# 気温データ10年分の読み込み\n",
    "df = pd.read_csv('kion15y.csv', encoding=\"utf-8\")\n",
    "\n",
    "# データを学習用とテスト用に分割する ---(*1)\n",
    "train_year = (df[\"年\"] <= 2018)\n",
    "test_year = (df[\"年\"] == 2019)\n",
    "interval = 6\n",
    "\n",
    "\n",
    "# 過去6日分を学習するデータを作成 ---(*2)\n",
    "def make_data(data):\n",
    "    x = []  # 学習データ\n",
    "    y = []  # 結果\n",
    "    temps = list(data[\"気温\"])\n",
    "    for i in range(len(temps)):\n",
    "        if i < interval:\n",
    "            continue\n",
    "        y.append(temps[i])\n",
    "        xa = []\n",
    "        for p in range(interval):\n",
    "            d = i + p - interval\n",
    "            xa.append(temps[d])\n",
    "        x.append(xa)\n",
    "    return (x, y)\n",
    "\n",
    "\n",
    "train_x, train_y = make_data(df[train_year])\n",
    "test_x, test_y = make_data(df[test_year])\n",
    "\n",
    "# 直線回帰分析を行う ---(*3)\n",
    "lr = LinearRegression(normalize=True)\n",
    "lr.fit(train_x, train_y)  # 学習\n",
    "pre_y = lr.predict(test_x)  # 予測\n",
    "\n",
    "# 結果を図にプロット ---(*4)\n",
    "plt.figure(figsize=(10, 6), dpi=100)\n",
    "plt.plot(test_y, c='r')\n",
    "plt.plot(pre_y, c='b')\n",
    "# plt.savefig('tenki-kion-lr.png')\n",
    "plt.show()\n"
   ]
  },
  {
   "cell_type": "code",
   "execution_count": null,
   "metadata": {},
   "outputs": [],
   "source": []
  }
 ],
 "metadata": {
  "kernelspec": {
   "display_name": "Python 3",
   "language": "python",
   "name": "python3"
  },
  "language_info": {
   "codemirror_mode": {
    "name": "ipython",
    "version": 3
   },
   "file_extension": ".py",
   "mimetype": "text/x-python",
   "name": "python",
   "nbconvert_exporter": "python",
   "pygments_lexer": "ipython3",
   "version": "3.5.6"
  }
 },
 "nbformat": 4,
 "nbformat_minor": 4
}

{
 "cells": [
  {
   "cell_type": "code",
   "execution_count": 1,
   "metadata": {},
   "outputs": [
    {
     "data": {
      "text/plain": [
       "<Figure size 640x480 with 1 Axes>"
      ]
     },
     "metadata": {},
     "output_type": "display_data"
    }
   ],
   "source": [
    "import cv2\n",
    "import matplotlib.pyplot as plt\n",
    "\n",
    "# ハガキ画像から郵便番号領域を抽出する関数\n",
    "def detect_zipno(fname):\n",
    "    # 画像を読み込む\n",
    "    img = cv2.imread(fname)\n",
    "    # 画像のサイズを求める\n",
    "    h, w = img.shape[:2]\n",
    "    # ハガキ画像の右上のみ抽出する --- (*1)\n",
    "    img = img[0:h//2, w//3:]\n",
    "    \n",
    "    # 画像を二値化 --- (*2)\n",
    "    gray = cv2.cvtColor(img, cv2.COLOR_BGR2GRAY)\n",
    "    gray = cv2.GaussianBlur(gray, (3, 3), 0) \n",
    "    im2 = cv2.threshold(gray, 140, 255, cv2.THRESH_BINARY_INV)[1]\n",
    "    \n",
    "    # 輪郭を抽出 --- (*3)\n",
    "    cnts = cv2.findContours(im2, \n",
    "        cv2.RETR_LIST,\n",
    "        cv2.CHAIN_APPROX_SIMPLE)[0]\n",
    "    \n",
    "    # 抽出した輪郭を単純なリストに変換--- (*4)\n",
    "    result = []\n",
    "    for pt in cnts:\n",
    "        x, y, w, h = cv2.boundingRect(pt)\n",
    "        # 大きすぎる小さすぎる領域を除去 --- (*5)\n",
    "        if not(50 < w < 70): continue\n",
    "        result.append([x, y, w, h])\n",
    "    # 抽出した輪郭が左側から並ぶようソート --- (*6)\n",
    "    result = sorted(result, key=lambda x: x[0])\n",
    "    # 抽出した輪郭が近すぎるものを除去 --- (*7)\n",
    "    result2 = []\n",
    "    lastx = -100\n",
    "    for x, y, w, h in result:\n",
    "        if (x - lastx) < 10: continue\n",
    "        result2.append([x, y, w, h])\n",
    "        lastx = x\n",
    "    # 緑色の枠を描画 --- (*8)\n",
    "    for x, y, w, h in result2:\n",
    "        cv2.rectangle(img, (x, y), (x+w, y+h), (0, 255, 0), 3)\n",
    "    return result2, img\n",
    "\n",
    "if __name__ == '__main__':\n",
    "    # ハガキ画像を指定して領域を抽出\n",
    "    cnts, img = detect_zipno(\"letter01.png\")\n",
    "\n",
    "    # 画面に抽出結果を描画\n",
    "    plt.imshow(cv2.cvtColor(img, cv2.COLOR_BGR2RGB))\n",
    "    plt.savefig(\"detect-zip.png\", dpi=200)\n",
    "    plt.show()"
   ]
  },
  {
   "cell_type": "code",
   "execution_count": 2,
   "metadata": {},
   "outputs": [
    {
     "ename": "NameError",
     "evalue": "name 'pickle' is not defined",
     "output_type": "error",
     "traceback": [
      "\u001B[0;31m---------------------------------------------------------------------------\u001B[0m",
      "\u001B[0;31mNameError\u001B[0m                                 Traceback (most recent call last)",
      "\u001B[0;32m<ipython-input-2-fcef2989d78f>\u001B[0m in \u001B[0;36m<module>\u001B[0;34m\u001B[0m\n\u001B[1;32m      3\u001B[0m \u001B[0;31m# 学習済み手書き数字のデータを読み込む\u001B[0m\u001B[0;34m\u001B[0m\u001B[0;34m\u001B[0m\u001B[0m\n\u001B[1;32m      4\u001B[0m \u001B[0;32mwith\u001B[0m \u001B[0mopen\u001B[0m\u001B[0;34m(\u001B[0m\u001B[0;34m\"digits.pkl\"\u001B[0m\u001B[0;34m,\u001B[0m \u001B[0;34m\"rb\"\u001B[0m\u001B[0;34m)\u001B[0m \u001B[0;32mas\u001B[0m \u001B[0mfp\u001B[0m\u001B[0;34m:\u001B[0m\u001B[0;34m\u001B[0m\u001B[0m\n\u001B[0;32m----> 5\u001B[0;31m     \u001B[0mclf\u001B[0m \u001B[0;34m=\u001B[0m \u001B[0mpickle\u001B[0m\u001B[0;34m.\u001B[0m\u001B[0mload\u001B[0m\u001B[0;34m(\u001B[0m\u001B[0mfp\u001B[0m\u001B[0;34m)\u001B[0m\u001B[0;34m\u001B[0m\u001B[0m\n\u001B[0m\u001B[1;32m      6\u001B[0m \u001B[0;34m\u001B[0m\u001B[0m\n\u001B[1;32m      7\u001B[0m \u001B[0;31m# 画像から領域を読み込む\u001B[0m\u001B[0;34m\u001B[0m\u001B[0;34m\u001B[0m\u001B[0m\n",
      "\u001B[0;31mNameError\u001B[0m: name 'pickle' is not defined"
     ]
    }
   ],
   "source": [
    "import matplotlib.pyplot as plt\n",
    "\n",
    "# 学習済み手書き数字のデータを読み込む\n",
    "with open(\"digits.pkl\", \"rb\") as fp:\n",
    "    clf = pickle.load(fp)\n",
    "\n",
    "# 画像から領域を読み込む\n",
    "cnts, img = detect_zipno(\"letter01.png\")\n",
    "\n",
    "# 読み込んだデータをプロット\n",
    "for i, pt in enumerate(cnts):\n",
    "    x, y, w, h = pt\n",
    "    # 枠線の輪郭分だけ小さくする\n",
    "    x += 8\n",
    "    y += 8\n",
    "    w -= 16\n",
    "    h -= 16\n",
    "    # 画像データを取り出す\n",
    "    im2 = img[y:y+h, x:x+w]\n",
    "    # データを学習済みデータに合わせる\n",
    "    im2gray = cv2.cvtColor(im2, cv2.COLOR_BGR2GRAY) # グレイスケールに\n",
    "    im2gray = cv2.resize(im2gray, (8, 8)) # リサイズ\n",
    "    im2gray = 15 - im2gray // 16 # 白黒反転\n",
    "    im2gray = im2gray.reshape((-1, 64)) # 一次元に変換\n",
    "    # データ予測する\n",
    "    res = clf.predict(im2gray)\n",
    "    # 画面に出力\n",
    "    plt.subplot(1, 7, i + 1)\n",
    "    plt.imshow(im2)\n",
    "\n",
    "    plt.axis(\"off\")\n",
    "    plt.title(str(res))\n",
    "\n",
    "plt.show()"
   ]
  }
 ],
 "metadata": {
  "kernelspec": {
   "display_name": "Python 3",
   "language": "python",
   "name": "python3"
  },
  "language_info": {
   "codemirror_mode": {
    "name": "ipython",
    "version": 3
   },
   "file_extension": ".py",
   "mimetype": "text/x-python",
   "name": "python",
   "nbconvert_exporter": "python",
   "pygments_lexer": "ipython3",
   "version": "3.5.6"
  }
 },
 "nbformat": 4,
 "nbformat_minor": 4
}